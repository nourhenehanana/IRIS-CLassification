{
 "cells": [
  {
   "cell_type": "code",
   "execution_count": 1,
   "id": "fc4ed006",
   "metadata": {},
   "outputs": [],
   "source": [
    "import numpy as np\n",
    "import pandas as pd\n",
    "import matplotlib.pyplot as plt\n",
    "import sklearn.metrics as m\n",
    "from sklearn.neighbors import KNeighborsClassifier\n"
   ]
  },
  {
   "cell_type": "code",
   "execution_count": 2,
   "id": "2a47b7ac",
   "metadata": {},
   "outputs": [],
   "source": [
    "#exercice 1\n"
   ]
  },
  {
   "cell_type": "code",
   "execution_count": 3,
   "id": "d2e72b36",
   "metadata": {},
   "outputs": [
    {
     "data": {
      "text/plain": [
       "0.759075907590759"
      ]
     },
     "execution_count": 3,
     "metadata": {},
     "output_type": "execute_result"
    }
   ],
   "source": [
    "knn=KNeighborsClassifier(n_neighbors=3)\n",
    "heart=pd.read_csv(\"heart.csv\")\n",
    "x=heart.drop(\"target\",axis=1)\n",
    "y=heart.target\n",
    "knn.fit(x,y)\n",
    "ypredit=knn.predict(x)\n",
    "knn.score(x,y)\n",
    "#another possibility \n",
    "'''import pandas as pd\n",
    "df=pd.read_csv(\"heart.csv\")\n",
    "c=df.Shape[1]\n",
    "X=df.values[:,:c-1]\n",
    "y=df.values'''"
   ]
  },
  {
   "cell_type": "code",
   "execution_count": 43,
   "id": "fe9c1a2f",
   "metadata": {},
   "outputs": [
    {
     "name": "stdout",
     "output_type": "stream",
     "text": [
      "0.7818181818181819\n",
      "0.7771084337349398\n",
      "0.759075907590759\n"
     ]
    },
    {
     "data": {
      "text/plain": [
       "0.7794561933534743"
      ]
     },
     "execution_count": 43,
     "metadata": {},
     "output_type": "execute_result"
    }
   ],
   "source": [
    "VN,FP,FN,VP=m.confusion_matrix(y,ypredit).ravel()\n",
    "accuracy=(VN+VP)/(len(ypredit))\n",
    "precision=VP/(VP+FP)\n",
    "rappel=VP/(VP+FN)\n",
    "print(rappel)\n",
    "print(precision)\n",
    "print(accuracy)\n",
    "f_mesure=2*(precision*rappel)/(precision+rappel)\n",
    "f_mesure"
   ]
  },
  {
   "cell_type": "code",
   "execution_count": 44,
   "id": "30463798",
   "metadata": {},
   "outputs": [
    {
     "name": "stdout",
     "output_type": "stream",
     "text": [
      "0.7818181818181819\n",
      "0.7771084337349398\n",
      "0.759075907590759\n",
      "0.7794561933534743\n"
     ]
    }
   ],
   "source": [
    "print(m.recall_score(y,ypredit))\n",
    "print(m.precision_score(y,ypredit))\n",
    "print(m.accuracy_score(y,ypredit))\n",
    "print(m.f1_score(y,ypredit))"
   ]
  },
  {
   "cell_type": "code",
   "execution_count": 9,
   "id": "b7315d67",
   "metadata": {},
   "outputs": [
    {
     "data": {
      "text/plain": [
       "0.9666666666666667"
      ]
     },
     "execution_count": 9,
     "metadata": {},
     "output_type": "execute_result"
    }
   ],
   "source": [
    "#exercice2\n",
    "iris=pd.read_csv(\"iris.csv\")\n",
    "knn2=KNeighborsClassifier(n_neighbors=5)\n",
    "X=iris.drop(\"class\",axis=1)\n",
    "Y=iris[\"class\"]\n",
    "knn2.fit(X,Y)\n",
    "Ypredit=knn2.predict(X)\n",
    "knn2.score(X,Y)"
   ]
  },
  {
   "cell_type": "code",
   "execution_count": 11,
   "id": "86fb8a59",
   "metadata": {},
   "outputs": [
    {
     "data": {
      "text/plain": [
       "0.9666666666666667"
      ]
     },
     "execution_count": 11,
     "metadata": {},
     "output_type": "execute_result"
    }
   ],
   "source": [
    "def score(y,ypredit):\n",
    "    s=0\n",
    "    for i in range (len(y)):\n",
    "        if (y[i]==ypredit[i]):\n",
    "            s+=1\n",
    "    return s/len(y)\n",
    "\n",
    "\n",
    "score(Y,Ypredit)"
   ]
  },
  {
   "cell_type": "code",
   "execution_count": 12,
   "id": "a8c33ef2",
   "metadata": {},
   "outputs": [
    {
     "data": {
      "text/plain": [
       "[<matplotlib.lines.Line2D at 0x2022ec3fe50>]"
      ]
     },
     "execution_count": 12,
     "metadata": {},
     "output_type": "execute_result"
    },
    {
     "data": {
      "image/png": "[encoded data removed]",
      "text/plain": [
       "<Figure size 432x288 with 1 Axes>"
      ]
     },
     "metadata": {
      "needs_background": "light"
     },
     "output_type": "display_data"
    }
   ],
   "source": [
    "lk,li=[],[]\n",
    "for i in range(2,20):\n",
    "    k=KNeighborsClassifier(n_neighbors=i)\n",
    "    k.fit(X,Y)\n",
    "    lk.append(k.score(X,Y))\n",
    "    li.append(i)\n",
    "plt.plot(li,lk)"
   ]
  },
  {
   "cell_type": "code",
   "execution_count": 13,
   "id": "aba0aac4",
   "metadata": {},
   "outputs": [
    {
     "data": {
      "text/plain": [
       "<matplotlib.legend.Legend at 0x2022eb6de80>"
      ]
     },
     "execution_count": 13,
     "metadata": {},
     "output_type": "execute_result"
    },
    {
     "data": {
      "image/png": "[encoded data removed]",
      "text/plain": [
       "<Figure size 432x288 with 1 Axes>"
      ]
     },
     "metadata": {
      "needs_background": "light"
     },
     "output_type": "display_data"
    }
   ],
   "source": [
    "plt.scatter(iris[\"sepal_length_in_cm\"][iris[\"class\"] ==\"Iris-setosa\"],iris[\"sepal_width_in_cm\"][iris[\"class\"] ==\"Iris-setosa\"],c=\"b\",  label=\"setosa\")\n",
    "plt.scatter(iris[\"sepal_length_in_cm\"][iris[\"class\"] ==\"Iris-versicolor\"],iris[\"sepal_width_in_cm\"][iris[\"class\"] ==\"Iris-versicolor\"],c=\"r\",label=\"versicolor\")\n",
    "plt.scatter(iris[\"sepal_length_in_cm\"][iris[\"class\"] ==\"Iris-virginica\"],iris[\"sepal_width_in_cm\"][iris[\"class\"] ==\"Iris-virginica\"],c=\"g\",label=\"virginica\")\n",
    "plt.legend()"
   ]
  },
  {
   "cell_type": "code",
   "execution_count": 14,
   "id": "dcf08891",
   "metadata": {},
   "outputs": [
    {
     "data": {
      "text/plain": [
       "<matplotlib.legend.Legend at 0x2022f419b20>"
      ]
     },
     "execution_count": 14,
     "metadata": {},
     "output_type": "execute_result"
    },
    {
     "data": {
      "image/png": "[encoded data removed]",
      "text/plain": [
       "<Figure size 432x288 with 1 Axes>"
      ]
     },
     "metadata": {
      "needs_background": "light"
     },
     "output_type": "display_data"
    }
   ],
   "source": [
    "for i in iris[\"class\"].unique():\n",
    "    plt.scatter(iris[\"sepal_length_in_cm\"][iris[\"class\"] ==i],iris[\"sepal_width_in_cm\"][iris[\"class\"] ==i],label=i)\n",
    "plt.legend()\n"
   ]
  },
  {
   "cell_type": "code",
   "execution_count": 15,
   "id": "b237e70e",
   "metadata": {},
   "outputs": [],
   "source": [
    "obs=iris[:1]\n",
    "obs=obs.drop(\"class\",axis=1)\n",
    "obs\n",
    "obs[\"sepal_length_in_cm\"][0]=5\n",
    "obs[\"sepal_width_in_cm\"][0]=4\n",
    "obs[\"petal_length_in_cm\"][0]=1.4\n",
    "obs[\"petal_width_in_cm\"][0]=0.2"
   ]
  },
  {
   "cell_type": "code",
   "execution_count": 16,
   "id": "89aeed9d",
   "metadata": {},
   "outputs": [
    {
     "data": {
      "text/plain": [
       "<matplotlib.legend.Legend at 0x2022f4b1a00>"
      ]
     },
     "execution_count": 16,
     "metadata": {},
     "output_type": "execute_result"
    },
    {
     "data": {
      "image/png": "[encoded data removed]",
      "text/plain": [
       "<Figure size 432x288 with 1 Axes>"
      ]
     },
     "metadata": {
      "needs_background": "light"
     },
     "output_type": "display_data"
    }
   ],
   "source": [
    "for i in iris[\"class\"].unique():\n",
    "    plt.scatter(iris[\"sepal_length_in_cm\"][iris[\"class\"] ==i],iris[\"sepal_width_in_cm\"][iris[\"class\"] ==i],label=i)\n",
    "\n",
    "plt.scatter(obs[\"sepal_length_in_cm\"],obs[\"sepal_width_in_cm\"],label=\"nouvelle observation\", c=\"y\")\n",
    "plt.legend()"
   ]
  },
  {
   "cell_type": "code",
   "execution_count": 17,
   "id": "8ab049f2",
   "metadata": {},
   "outputs": [
    {
     "data": {
      "text/plain": [
       "array(['Iris-setosa'], dtype=object)"
      ]
     },
     "execution_count": 17,
     "metadata": {},
     "output_type": "execute_result"
    }
   ],
   "source": [
    "knn2.predict(obs)"
   ]
  },
  {
   "cell_type": "code",
   "execution_count": 19,
   "id": "782ab19d",
   "metadata": {},
   "outputs": [
    {
     "data": {
      "text/plain": [
       "1.0"
      ]
     },
     "execution_count": 19,
     "metadata": {},
     "output_type": "execute_result"
    }
   ],
   "source": [
    "from sklearn.model_selection import train_test_split\n",
    "X_train, X_test, y_train, y_test = train_test_split(X, Y, test_size=0.25)\n",
    "kn=KNeighborsClassifier(5)\n",
    "kn.fit(X_train,y_train)\n",
    "kn.score(X_test,y_test)"
   ]
  },
  {
   "cell_type": "code",
   "execution_count": 28,
   "id": "488af975",
   "metadata": {},
   "outputs": [
    {
     "name": "stdout",
     "output_type": "stream",
     "text": [
      "[1.         0.93333333 1.         1.         1.         0.86666667\n",
      " 0.93333333 0.93333333 1.         1.        ]\n"
     ]
    },
    {
     "data": {
      "text/plain": [
       "0.9666666666666668"
      ]
     },
     "execution_count": 28,
     "metadata": {},
     "output_type": "execute_result"
    }
   ],
   "source": [
    "from sklearn.model_selection import cross_val_score\n",
    "knn_cv = KNeighborsClassifier(n_neighbors=10) \n",
    "cv_scores = cross_val_score(knn_cv, X, Y, cv=10)\n",
    "print(cv_scores)\n",
    "cv_scores.mean()\n",
    "\n"
   ]
  },
  {
   "cell_type": "code",
   "execution_count": null,
   "id": "d6920a3a",
   "metadata": {},
   "outputs": [],
   "source": []
  }
 ],
 "metadata": {
  "kernelspec": {
   "display_name": "Python 3 (ipykernel)",
   "language": "python",
   "name": "python3"
  },
  "language_info": {
   "codemirror_mode": {
    "name": "ipython",
    "version": 3
   },
   "file_extension": ".py",
   "mimetype": "text/x-python",
   "name": "python",
   "nbconvert_exporter": "python",
   "pygments_lexer": "ipython3",
   "version": "3.9.12"
  }
 },
 "nbformat": 4,
 "nbformat_minor": 5
}
