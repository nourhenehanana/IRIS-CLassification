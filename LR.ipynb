{
 "cells": [
  {
   "cell_type": "code",
   "execution_count": 25,
   "id": "0909b3fe",
   "metadata": {},
   "outputs": [],
   "source": [
    "import numpy as np\n",
    "import pandas as pd\n",
    "import matplotlib.pyplot as plt"
   ]
  },
  {
   "cell_type": "code",
   "execution_count": 26,
   "id": "fcedaf11",
   "metadata": {},
   "outputs": [],
   "source": [
    "#definition de la fonction coeff\n",
    "def coeff(X,Y):\n",
    "    Ybar = Y.mean()\n",
    "    Xbar= X.mean()\n",
    "    S1,S2=0,0\n",
    "    for i in range(len(X)): \n",
    "        S1+=(X[i]-Xbar)*(Y[i]-Ybar)\n",
    "        S2+=(X[i]-Xbar)**2\n",
    "    a= S1/S2\n",
    "    b= Ybar-a*Xbar\n",
    "    return a,b \n"
   ]
  },
  {
   "cell_type": "code",
   "execution_count": 27,
   "id": "e3ca3cef",
   "metadata": {},
   "outputs": [],
   "source": [
    "#definition de la fonction afficher_valeurs_obs\n",
    "def afficher_valeur(X,Y):\n",
    "    plt.scatter(X,Y ,label=\"valeur observées\")"
   ]
  },
  {
   "cell_type": "code",
   "execution_count": 28,
   "id": "fac93e75",
   "metadata": {},
   "outputs": [],
   "source": [
    "#defintion de la fonction predict\n",
    "def predict (X_new,a,b):\n",
    "    return a*X_new +b"
   ]
  },
  {
   "cell_type": "code",
   "execution_count": 29,
   "id": "dc42a0fb",
   "metadata": {},
   "outputs": [],
   "source": [
    "#definition de la fonction afficher_valeur_predites_model\n",
    "def afficher_valeur_predites_model(X,Ypredit):\n",
    "    plt.scatter(X, Ypredit, label=\"valeurs predites\")\n",
    "    plt.plot(X,Ypredit , label='modele')"
   ]
  },
  {
   "cell_type": "code",
   "execution_count": 80,
   "id": "39de5488",
   "metadata": {},
   "outputs": [],
   "source": [
    "#essayer sur les données du cours\n",
    "X=np.array([5,15,25,35,45,55])\n",
    "Y=np.array([5,20,14,32,22,38])"
   ]
  },
  {
   "cell_type": "code",
   "execution_count": 81,
   "id": "b5960e54",
   "metadata": {},
   "outputs": [
    {
     "name": "stdout",
     "output_type": "stream",
     "text": [
      "0.54 5.633333333333329\n",
      "11.03333333333333\n"
     ]
    },
    {
     "data": {
      "text/plain": [
       "Text(0, 0.5, 'Y')"
      ]
     },
     "execution_count": 81,
     "metadata": {},
     "output_type": "execute_result"
    },
    {
     "data": {
      "image/png": "[encoded data removed]",
      "text/plain": [
       "<Figure size 432x288 with 1 Axes>"
      ]
     },
     "metadata": {
      "needs_background": "light"
     },
     "output_type": "display_data"
    }
   ],
   "source": [
    "#determination de a et b\n",
    "a,b= coeff(X,Y)\n",
    "print(a,b)\n",
    "#essayons pour x=10\n",
    "Ypredit2= predict(10,a,b)\n",
    "print(Ypredit2)\n",
    "Ypredit= predict (X,a,b)\n",
    "afficher_valeur(X,Y)\n",
    "afficher_valeur_predites_model(X,Ypredit)\n",
    "plt.legend()\n",
    "plt.xlabel(\"X\")\n",
    "plt.ylabel(\"Y\")"
   ]
  },
  {
   "cell_type": "code",
   "execution_count": 42,
   "id": "3cf90b13",
   "metadata": {},
   "outputs": [
    {
     "data": {
      "text/html": [
       "<div>\n",
       "<style scoped>\n",
       "    .dataframe tbody tr th:only-of-type {\n",
       "        vertical-align: middle;\n",
       "    }\n",
       "\n",
       "    .dataframe tbody tr th {\n",
       "        vertical-align: top;\n",
       "    }\n",
       "\n",
       "    .dataframe thead th {\n",
       "        text-align: right;\n",
       "    }\n",
       "</style>\n",
       "<table border=\"1\" class=\"dataframe\">\n",
       "  <thead>\n",
       "    <tr style=\"text-align: right;\">\n",
       "      <th></th>\n",
       "      <th>sepal_length_in_cm</th>\n",
       "      <th>sepal_width_in_cm</th>\n",
       "      <th>petal_length_in_cm</th>\n",
       "      <th>petal_width_in_cm</th>\n",
       "      <th>class</th>\n",
       "    </tr>\n",
       "  </thead>\n",
       "  <tbody>\n",
       "    <tr>\n",
       "      <th>0</th>\n",
       "      <td>5.1</td>\n",
       "      <td>3.5</td>\n",
       "      <td>1.4</td>\n",
       "      <td>0.2</td>\n",
       "      <td>Iris-setosa</td>\n",
       "    </tr>\n",
       "    <tr>\n",
       "      <th>1</th>\n",
       "      <td>4.9</td>\n",
       "      <td>3.0</td>\n",
       "      <td>1.4</td>\n",
       "      <td>0.2</td>\n",
       "      <td>Iris-setosa</td>\n",
       "    </tr>\n",
       "    <tr>\n",
       "      <th>2</th>\n",
       "      <td>4.7</td>\n",
       "      <td>3.2</td>\n",
       "      <td>1.3</td>\n",
       "      <td>0.2</td>\n",
       "      <td>Iris-setosa</td>\n",
       "    </tr>\n",
       "    <tr>\n",
       "      <th>3</th>\n",
       "      <td>4.6</td>\n",
       "      <td>3.1</td>\n",
       "      <td>1.5</td>\n",
       "      <td>0.2</td>\n",
       "      <td>Iris-setosa</td>\n",
       "    </tr>\n",
       "    <tr>\n",
       "      <th>4</th>\n",
       "      <td>5.0</td>\n",
       "      <td>3.6</td>\n",
       "      <td>1.4</td>\n",
       "      <td>0.2</td>\n",
       "      <td>Iris-setosa</td>\n",
       "    </tr>\n",
       "  </tbody>\n",
       "</table>\n",
       "</div>"
      ],
      "text/plain": [
       "   sepal_length_in_cm  sepal_width_in_cm  petal_length_in_cm  \\\n",
       "0                 5.1                3.5                 1.4   \n",
       "1                 4.9                3.0                 1.4   \n",
       "2                 4.7                3.2                 1.3   \n",
       "3                 4.6                3.1                 1.5   \n",
       "4                 5.0                3.6                 1.4   \n",
       "\n",
       "   petal_width_in_cm        class  \n",
       "0                0.2  Iris-setosa  \n",
       "1                0.2  Iris-setosa  \n",
       "2                0.2  Iris-setosa  \n",
       "3                0.2  Iris-setosa  \n",
       "4                0.2  Iris-setosa  "
      ]
     },
     "execution_count": 42,
     "metadata": {},
     "output_type": "execute_result"
    }
   ],
   "source": [
    "#importer les données iris \n",
    "iris = pd.read_csv(\"C:/Users/WhiteLuce SIS/OneDrive/if5/fouille de données/tp/iris.csv\")\n",
    "iris.head()"
   ]
  },
  {
   "cell_type": "code",
   "execution_count": 43,
   "id": "79fd7e90",
   "metadata": {},
   "outputs": [
    {
     "data": {
      "text/plain": [
       "(150, 5)"
      ]
     },
     "execution_count": 43,
     "metadata": {},
     "output_type": "execute_result"
    }
   ],
   "source": [
    "iris.shape"
   ]
  },
  {
   "cell_type": "code",
   "execution_count": 51,
   "id": "8377ebf6",
   "metadata": {},
   "outputs": [
    {
     "data": {
      "text/plain": [
       "<matplotlib.collections.PathCollection at 0x16a71fa1d90>"
      ]
     },
     "execution_count": 51,
     "metadata": {},
     "output_type": "execute_result"
    },
    {
     "data": {
      "image/png": "[encoded data removed]",
      "text/plain": [
       "<Figure size 432x288 with 1 Axes>"
      ]
     },
     "metadata": {
      "needs_background": "light"
     },
     "output_type": "display_data"
    }
   ],
   "source": [
    "#visualiser sous forme de nuage de points données iris\n",
    "X=iris['sepal_length_in_cm']\n",
    "Y= iris['sepal_width_in_cm']\n",
    "plt.title(\"données iris\")\n",
    "plt.xlabel(\"longueur sepal\")\n",
    "plt.ylabel(\"largeur sepal\")\n",
    "plt.scatter(X,Y)\n",
    "  "
   ]
  },
  {
   "cell_type": "code",
   "execution_count": 53,
   "id": "12c5872f",
   "metadata": {},
   "outputs": [
    {
     "data": {
      "text/plain": [
       "(0.18451682376035197, 0.011961632834767588)"
      ]
     },
     "execution_count": 53,
     "metadata": {},
     "output_type": "execute_result"
    },
    {
     "data": {
      "image/png": "[encoded data removed]",
      "text/plain": [
       "<Figure size 432x288 with 1 Axes>"
      ]
     },
     "metadata": {
      "needs_background": "light"
     },
     "output_type": "display_data"
    }
   ],
   "source": [
    "#essayons par sepales pour voir si elle suit un modele lineaire\n",
    "X=iris['sepal_length_in_cm']\n",
    "Y= iris['sepal_width_in_cm']\n",
    "a,b= coeff(X,Y)\n",
    "Ypredit= predict (X,a,b)\n",
    "afficher_valeur(X,Y)\n",
    "afficher_valeur_predites_model(X,Ypredit)\n",
    "plt.title(\"modèle linéaire sur iris.sepal\")\n",
    "plt.legend()\n",
    "plt.xlabel(\"longueur sepal\")\n",
    "plt.ylabel(\"largeur sepal\")\n",
    "MSE = sum((Ypredit -Y )**2)/len(Y)\n",
    "R= 1-sum((Y-Ypredit)**2)/sum((Y-Y.mean())**2)\n",
    "MSE, R"
   ]
  },
  {
   "cell_type": "code",
   "execution_count": 54,
   "id": "07890d20",
   "metadata": {},
   "outputs": [
    {
     "data": {
      "text/plain": [
       "(0.04228994631948424, 0.9269012279220037)"
      ]
     },
     "execution_count": 54,
     "metadata": {},
     "output_type": "execute_result"
    },
    {
     "data": {
      "image/png": "[encoded data removed]",
      "text/plain": [
       "<Figure size 432x288 with 1 Axes>"
      ]
     },
     "metadata": {
      "needs_background": "light"
     },
     "output_type": "display_data"
    }
   ],
   "source": [
    "#essayons par petales pour voir si elle suit un modele lineaire\n",
    "X=iris['petal_length_in_cm']\n",
    "Y= iris['petal_width_in_cm']\n",
    "a,b= coeff(X,Y)\n",
    "Ypredit= predict (X,a,b)\n",
    "afficher_valeur(X,Y)\n",
    "afficher_valeur_predites_model(X,Ypredit)\n",
    "plt.title(\"modèle linéaire sur iris.petales\")\n",
    "plt.legend()\n",
    "plt.xlabel(\"longueur petal\")\n",
    "plt.ylabel(\"largeur petal\")\n",
    "MSE = sum((Ypredit -Y )**2)/len(Y)\n",
    "R= 1-sum((Y-Ypredit)**2)/sum((Y-Y.mean())**2)\n",
    "MSE,R"
   ]
  },
  {
   "cell_type": "code",
   "execution_count": 55,
   "id": "f49234e9",
   "metadata": {},
   "outputs": [],
   "source": [
    "X= np.array(X)\n",
    "X=np.reshape(X,(len(X),1))\n",
    "X=np.append(X,np.ones((len(X),1)),axis=1)"
   ]
  },
  {
   "cell_type": "code",
   "execution_count": 56,
   "id": "720f223a",
   "metadata": {},
   "outputs": [
    {
     "data": {
      "text/plain": [
       "array([[1.4, 1. ],\n",
       "       [1.4, 1. ],\n",
       "       [1.3, 1. ],\n",
       "       [1.5, 1. ],\n",
       "       [1.4, 1. ],\n",
       "       [1.7, 1. ],\n",
       "       [1.4, 1. ],\n",
       "       [1.5, 1. ],\n",
       "       [1.4, 1. ],\n",
       "       [1.5, 1. ],\n",
       "       [1.5, 1. ],\n",
       "       [1.6, 1. ],\n",
       "       [1.4, 1. ],\n",
       "       [1.1, 1. ],\n",
       "       [1.2, 1. ],\n",
       "       [1.5, 1. ],\n",
       "       [1.3, 1. ],\n",
       "       [1.4, 1. ],\n",
       "       [1.7, 1. ],\n",
       "       [1.5, 1. ],\n",
       "       [1.7, 1. ],\n",
       "       [1.5, 1. ],\n",
       "       [1. , 1. ],\n",
       "       [1.7, 1. ],\n",
       "       [1.9, 1. ],\n",
       "       [1.6, 1. ],\n",
       "       [1.6, 1. ],\n",
       "       [1.5, 1. ],\n",
       "       [1.4, 1. ],\n",
       "       [1.6, 1. ],\n",
       "       [1.6, 1. ],\n",
       "       [1.5, 1. ],\n",
       "       [1.5, 1. ],\n",
       "       [1.4, 1. ],\n",
       "       [1.5, 1. ],\n",
       "       [1.2, 1. ],\n",
       "       [1.3, 1. ],\n",
       "       [1.5, 1. ],\n",
       "       [1.3, 1. ],\n",
       "       [1.5, 1. ],\n",
       "       [1.3, 1. ],\n",
       "       [1.3, 1. ],\n",
       "       [1.3, 1. ],\n",
       "       [1.6, 1. ],\n",
       "       [1.9, 1. ],\n",
       "       [1.4, 1. ],\n",
       "       [1.6, 1. ],\n",
       "       [1.4, 1. ],\n",
       "       [1.5, 1. ],\n",
       "       [1.4, 1. ],\n",
       "       [4.7, 1. ],\n",
       "       [4.5, 1. ],\n",
       "       [4.9, 1. ],\n",
       "       [4. , 1. ],\n",
       "       [4.6, 1. ],\n",
       "       [4.5, 1. ],\n",
       "       [4.7, 1. ],\n",
       "       [3.3, 1. ],\n",
       "       [4.6, 1. ],\n",
       "       [3.9, 1. ],\n",
       "       [3.5, 1. ],\n",
       "       [4.2, 1. ],\n",
       "       [4. , 1. ],\n",
       "       [4.7, 1. ],\n",
       "       [3.6, 1. ],\n",
       "       [4.4, 1. ],\n",
       "       [4.5, 1. ],\n",
       "       [4.1, 1. ],\n",
       "       [4.5, 1. ],\n",
       "       [3.9, 1. ],\n",
       "       [4.8, 1. ],\n",
       "       [4. , 1. ],\n",
       "       [4.9, 1. ],\n",
       "       [4.7, 1. ],\n",
       "       [4.3, 1. ],\n",
       "       [4.4, 1. ],\n",
       "       [4.8, 1. ],\n",
       "       [5. , 1. ],\n",
       "       [4.5, 1. ],\n",
       "       [3.5, 1. ],\n",
       "       [3.8, 1. ],\n",
       "       [3.7, 1. ],\n",
       "       [3.9, 1. ],\n",
       "       [5.1, 1. ],\n",
       "       [4.5, 1. ],\n",
       "       [4.5, 1. ],\n",
       "       [4.7, 1. ],\n",
       "       [4.4, 1. ],\n",
       "       [4.1, 1. ],\n",
       "       [4. , 1. ],\n",
       "       [4.4, 1. ],\n",
       "       [4.6, 1. ],\n",
       "       [4. , 1. ],\n",
       "       [3.3, 1. ],\n",
       "       [4.2, 1. ],\n",
       "       [4.2, 1. ],\n",
       "       [4.2, 1. ],\n",
       "       [4.3, 1. ],\n",
       "       [3. , 1. ],\n",
       "       [4.1, 1. ],\n",
       "       [6. , 1. ],\n",
       "       [5.1, 1. ],\n",
       "       [5.9, 1. ],\n",
       "       [5.6, 1. ],\n",
       "       [5.8, 1. ],\n",
       "       [6.6, 1. ],\n",
       "       [4.5, 1. ],\n",
       "       [6.3, 1. ],\n",
       "       [5.8, 1. ],\n",
       "       [6.1, 1. ],\n",
       "       [5.1, 1. ],\n",
       "       [5.3, 1. ],\n",
       "       [5.5, 1. ],\n",
       "       [5. , 1. ],\n",
       "       [5.1, 1. ],\n",
       "       [5.3, 1. ],\n",
       "       [5.5, 1. ],\n",
       "       [6.7, 1. ],\n",
       "       [6.9, 1. ],\n",
       "       [5. , 1. ],\n",
       "       [5.7, 1. ],\n",
       "       [4.9, 1. ],\n",
       "       [6.7, 1. ],\n",
       "       [4.9, 1. ],\n",
       "       [5.7, 1. ],\n",
       "       [6. , 1. ],\n",
       "       [4.8, 1. ],\n",
       "       [4.9, 1. ],\n",
       "       [5.6, 1. ],\n",
       "       [5.8, 1. ],\n",
       "       [6.1, 1. ],\n",
       "       [6.4, 1. ],\n",
       "       [5.6, 1. ],\n",
       "       [5.1, 1. ],\n",
       "       [5.6, 1. ],\n",
       "       [6.1, 1. ],\n",
       "       [5.6, 1. ],\n",
       "       [5.5, 1. ],\n",
       "       [4.8, 1. ],\n",
       "       [5.4, 1. ],\n",
       "       [5.6, 1. ],\n",
       "       [5.1, 1. ],\n",
       "       [5.1, 1. ],\n",
       "       [5.9, 1. ],\n",
       "       [5.7, 1. ],\n",
       "       [5.2, 1. ],\n",
       "       [5. , 1. ],\n",
       "       [5.2, 1. ],\n",
       "       [5.4, 1. ],\n",
       "       [5.1, 1. ]])"
      ]
     },
     "execution_count": 56,
     "metadata": {},
     "output_type": "execute_result"
    }
   ],
   "source": [
    "X"
   ]
  },
  {
   "cell_type": "code",
   "execution_count": 57,
   "id": "4772a1d8",
   "metadata": {},
   "outputs": [],
   "source": [
    "#solution analytique par evaluation de vecteur x\n",
    "import numpy.linalg as lng \n",
    "theta =lng.inv(X.T.dot(X)).dot(X.T).dot(Y)"
   ]
  },
  {
   "cell_type": "code",
   "execution_count": 58,
   "id": "b50fc99a",
   "metadata": {},
   "outputs": [
    {
     "data": {
      "text/plain": [
       "array([ 0.41641913, -0.36651405])"
      ]
     },
     "execution_count": 58,
     "metadata": {},
     "output_type": "execute_result"
    }
   ],
   "source": [
    "theta"
   ]
  },
  {
   "cell_type": "code",
   "execution_count": 59,
   "id": "c890da85",
   "metadata": {},
   "outputs": [
    {
     "data": {
      "text/plain": [
       "0.4164191322854016"
      ]
     },
     "execution_count": 59,
     "metadata": {},
     "output_type": "execute_result"
    }
   ],
   "source": [
    "a"
   ]
  },
  {
   "cell_type": "code",
   "execution_count": 61,
   "id": "ec5ac168",
   "metadata": {},
   "outputs": [
    {
     "data": {
      "text/plain": [
       "-0.36651404521673014"
      ]
     },
     "execution_count": 61,
     "metadata": {},
     "output_type": "execute_result"
    }
   ],
   "source": [
    "b"
   ]
  },
  {
   "cell_type": "code",
   "execution_count": 73,
   "id": "aa6eb75f",
   "metadata": {},
   "outputs": [
    {
     "name": "stdout",
     "output_type": "stream",
     "text": [
      "[0.41641913 0.        ]\n",
      "-0.3665140452167286\n",
      "coefficient de determination 0.9269012279220037\n",
      "MSE 0.042289946319484246\n"
     ]
    }
   ],
   "source": [
    "#implémentation en utilisant la bibliothèque sklearn\n",
    "from sklearn.linear_model import LinearRegression\n",
    "model=LinearRegression()\n",
    "model.fit(X,Y)\n",
    "print(model.coef_)\n",
    "print(model.intercept_)\n",
    "model.predict(X)\n",
    "#Coefficient de determination\n",
    "print('coefficient de determination',model.score(X,Y))\n",
    "from sklearn.metrics import mean_squared_error\n",
    "print('MSE',mean_squared_error(Y,model.predict(X)))"
   ]
  },
  {
   "cell_type": "code",
   "execution_count": null,
   "id": "40fbf579",
   "metadata": {},
   "outputs": [],
   "source": []
  }
 ],
 "metadata": {
  "kernelspec": {
   "display_name": "Python 3 (ipykernel)",
   "language": "python",
   "name": "python3"
  },
  "language_info": {
   "codemirror_mode": {
    "name": "ipython",
    "version": 3
   },
   "file_extension": ".py",
   "mimetype": "text/x-python",
   "name": "python",
   "nbconvert_exporter": "python",
   "pygments_lexer": "ipython3",
   "version": "3.9.12"
  }
 },
 "nbformat": 4,
 "nbformat_minor": 5
}
